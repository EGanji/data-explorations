{
 "cells": [
  {
   "cell_type": "markdown",
   "metadata": {},
   "source": [
    "## Approximating 𝛑 with Monte Carlo Simulations"
   ]
  },
  {
   "cell_type": "markdown",
   "metadata": {},
   "source": [
    "This is a little guide on how we can approximate the value of 𝛑 in Python.\n",
    "\n",
    "First let's import the necessary tools:"
   ]
  },
  {
   "cell_type": "code",
   "execution_count": 1,
   "metadata": {},
   "outputs": [],
   "source": [
    "import random # Random number generation\n",
    "import matplotlib.pyplot as plt  # Plotting\n",
    "from math import pi, pow, sqrt  # Math functions"
   ]
  },
  {
   "cell_type": "markdown",
   "metadata": {},
   "source": [
    "## The Idea"
   ]
  },
  {
   "cell_type": "markdown",
   "metadata": {},
   "source": [
    "We know that the area $A$ of a circle is calculated by the equation $A = \\pi r^2$, where $r$ is the radius.\n",
    "\n",
    "To make things easy, we let $r = 1$, so the area of our circle (aka unit circle) is $A = \\pi$. So we just need to find the area of the circle to find the value of $\\pi$. This part is where Monte Carlo comes in, but let's try and simplfy the problem for ourselves first.\n",
    "\n",
    "It's a lot easier to find the area of a square, it's simply it's side length times itself.\n",
    "\n",
    "If we put this circle into a box where they fix exactly, we have the length of the box to be 2. Since the radius of the circle is 1, its diameter is 2.\n",
    "\n",
    "To simplfy this even further, we only look at a quarter of the box, so we get a $1 \\times 1$ box, and now note that the area of this quarter circle is $\\frac{\\pi}{4}$.\n",
    "\n",
    "With Monte Carlo, we approximate the area of two sections in the box, inside the circle and outside the circle. We just randomly generate the points in the box, then count the number inside the circle vs outside of it. The number of points in the circle out of all the points in the box is the approximately the area of circle. Then we multiply by 4 to account that it's only a quarter of a circle.\n",
    "\n",
    "Now let's put this into practice!\n",
    "\n",
    "---"
   ]
  },
  {
   "cell_type": "markdown",
   "metadata": {},
   "source": [
    "We need to be able to calculate whether a point is within the unit circle or not, so we define the **Euclidean Distance** function."
   ]
  },
  {
   "cell_type": "code",
   "execution_count": 2,
   "metadata": {},
   "outputs": [],
   "source": [
    "def distance(a, b):\n",
    "    return sqrt(pow(a[0] - b[0], 2) + pow(a[1] - b[1], 2))"
   ]
  },
  {
   "cell_type": "markdown",
   "metadata": {},
   "source": [
    "Now we can do our simulation setup, all we need is to determine the number of points we want to generate."
   ]
  },
  {
   "cell_type": "code",
   "execution_count": 18,
   "metadata": {},
   "outputs": [],
   "source": [
    "NUMBER_OF_POINTS = 10000 # Change this value to see how the approximation changes!"
   ]
  },
  {
   "cell_type": "code",
   "execution_count": 19,
   "metadata": {},
   "outputs": [],
   "source": [
    "points = ((random.uniform(0, 1), random.uniform(0, 1)) for i in range(NUMBER_OF_POINTS))"
   ]
  },
  {
   "cell_type": "markdown",
   "metadata": {},
   "source": [
    "**Python note:** `points` is a *generator*, which means that nothing has actually been calculated yet. Values will just be generated on the spot when the variable is referenced later on. This saves space because we don't need to generate *everything* all at once, we only need to look at one point at a time."
   ]
  },
  {
   "cell_type": "code",
   "execution_count": 20,
   "metadata": {},
   "outputs": [
    {
     "data": {
      "image/png": "[encoded data removed]",
      "text/plain": [
       "<matplotlib.figure.Figure at 0x7f274cf34c88>"
      ]
     },
     "metadata": {},
     "output_type": "display_data"
    }
   ],
   "source": [
    "inside_quadrant = 0\n",
    "outside_quadrant = 0\n",
    "\n",
    "plt.axis('equal') # Ensure plot is a box\n",
    "\n",
    "for p in points:\n",
    "    dist = distance((0, 0), p)  # Distance from origin\n",
    "    if dist < 1:\n",
    "        inside_quadrant += 1\n",
    "        plt.scatter(x=p[0], y=p[1], color=\"#3F51B5\", alpha=0.5) # Blue points\n",
    "    else:\n",
    "        outside_quadrant += 1\n",
    "        plt.scatter(x=p[0], y=p[1], color=\"#F44336\", alpha=0.5) # Red points\n",
    "        \n",
    "plt.show() # Show the plot"
   ]
  },
  {
   "cell_type": "code",
   "execution_count": 11,
   "metadata": {},
   "outputs": [
    {
     "name": "stdout",
     "output_type": "stream",
     "text": [
      "𝛑 is approximately 3.14\n",
      "This approximation is 99.94930426171028% accurate\n"
     ]
    }
   ],
   "source": [
    "ratio = inside_quadrant / (inside_quadrant + outside_quadrant)\n",
    "approximation = ratio * 4\n",
    "accuracy = (approximation / pi * 100) if (approximation <= pi) else (pi / approximation * 100)\n",
    "\n",
    "print(\"𝛑 is approximately {}\".format(approximation))\n",
    "print(\"This approximation is {}% accurate\".format(accuracy))"
   ]
  }
 ],
 "metadata": {
  "kernelspec": {
   "display_name": "Python 3",
   "language": "python",
   "name": "python3"
  },
  "language_info": {
   "codemirror_mode": {
    "name": "ipython",
    "version": 3
   },
   "file_extension": ".py",
   "mimetype": "text/x-python",
   "name": "python",
   "nbconvert_exporter": "python",
   "pygments_lexer": "ipython3",
   "version": "3.6.1"
  }
 },
 "nbformat": 4,
 "nbformat_minor": 2
}
